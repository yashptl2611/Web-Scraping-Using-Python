{
 "cells": [
  {
   "cell_type": "code",
   "execution_count": 1,
   "id": "b8bc5c6c",
   "metadata": {},
   "outputs": [],
   "source": [
    "import requests\n",
    "from bs4 import BeautifulSoup\n",
    "import pandas as pd"
   ]
  },
  {
   "cell_type": "code",
   "execution_count": 2,
   "id": "5d518964",
   "metadata": {},
   "outputs": [],
   "source": [
    "Text = []"
   ]
  },
  {
   "cell_type": "code",
   "execution_count": 3,
   "id": "a426bc89",
   "metadata": {},
   "outputs": [],
   "source": [
    "res = requests.get('https://en.wikipedia.org/wiki/Web_scraping')\n",
    "soup = BeautifulSoup(res.text, 'html.parser')"
   ]
  },
  {
   "cell_type": "code",
   "execution_count": 4,
   "id": "edf77e2a",
   "metadata": {},
   "outputs": [
    {
     "data": {
      "text/plain": [
       "[]"
      ]
     },
     "execution_count": 4,
     "metadata": {},
     "output_type": "execute_result"
    }
   ],
   "source": [
    "soup.select('mw-headline')"
   ]
  },
  {
   "cell_type": "code",
   "execution_count": 5,
   "id": "43909f8c",
   "metadata": {},
   "outputs": [
    {
     "name": "stdout",
     "output_type": "stream",
     "text": [
      "History\n",
      "Techniques\n",
      "Human copy-and-paste\n",
      "Text pattern matching\n",
      "HTTP programming\n",
      "HTML parsing\n",
      "DOM parsing\n",
      "Vertical aggregation\n",
      "Semantic annotation recognizing\n",
      "Computer vision web-page analysis\n",
      "Software\n",
      "Legal issues\n",
      "United States\n",
      "The EU\n",
      "Australia\n",
      "India\n",
      "Methods to prevent web scraping\n",
      "See also\n",
      "References\n"
     ]
    }
   ],
   "source": [
    "for i in soup.select('.mw-headline'):\n",
    "  print(i.text)\n",
    "\n",
    "  Text.append(i.text)"
   ]
  },
  {
   "cell_type": "code",
   "execution_count": 6,
   "id": "17de0530",
   "metadata": {},
   "outputs": [],
   "source": [
    "df = pd.DataFrame({'Text':Text}) \n",
    "df.to_csv('Web_Scrap.csv', index=False, encoding='utf-8')"
   ]
  }
 ],
 "metadata": {
  "kernelspec": {
   "display_name": "Python 3 (ipykernel)",
   "language": "python",
   "name": "python3"
  },
  "language_info": {
   "codemirror_mode": {
    "name": "ipython",
    "version": 3
   },
   "file_extension": ".py",
   "mimetype": "text/x-python",
   "name": "python",
   "nbconvert_exporter": "python",
   "pygments_lexer": "ipython3",
   "version": "3.8.9"
  }
 },
 "nbformat": 4,
 "nbformat_minor": 5
}
